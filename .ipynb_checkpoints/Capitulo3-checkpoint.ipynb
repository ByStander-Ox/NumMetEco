{
 "cells": [
  {
   "cell_type": "markdown",
   "metadata": {},
   "source": [
    "# 1. Ecuaciones lineales y métodos iterativos"
   ]
  },
  {
   "cell_type": "markdown",
   "metadata": {},
   "source": [
    "Nos concentraremos en resolver el problema lineal:\n",
    "\n",
    "$$ Ax = b $$\n",
    "\n",
    "donde $A \\in R^{n \\times n}$ and $b \\in R^n$, es decir A es una matriz cuadrada no singular es decir que tiene inversa.\n",
    "\n",
    "Hay tres razones por las que nos enfocamos en métodos de solucion de ecuaciones lineales:\n",
    "\n",
    "- Son problemas importantes en sí mismo. Muy utilizados en la ciencia de datos (análisis de imágenes).\n",
    "- Son casi el único problema por el que existe soluciones directas.\n",
    "- Los métodos lineales son las piezas fundamentales sobre las que se construye soluciones a problemas no lineales.\n",
    "\n",
    "## 1. Factorización de matrices cuadradas\n",
    "\n",
    "### 1.1. Factorización LU\n",
    "\n",
    "Consideremos la siguiente matriz cuadrada:\n",
    "\n",
    "$$ A = \\left[\\begin{array}{cccc}a_{11} & 0 & \\dots & 0 \\\\\n",
    "                               a_{21} & a_{22} & \\dots & 0 \\\\\n",
    "                               \\vdots & \\vdots & \\ddots & \\vdots \\\\\n",
    "                               a_{n1} & a_{n2} & \\dots & a_{nn}\\end{array}\\right] $$\n",
    "                            \n",
    "este es el ejemplo de una matriz cuadrada *triangular inferior*. Existen también matrices *triangulares superiores* donde los elementos fuera de la diagonal en la parte inferior izquierda son todos 0; y existen también las matrices diagonales cuyos elementos fuera de la diagonal son todos 0.\n",
    "\n",
    "Resolver un sistema lineal con una matriz $A$ triangular inferior o superior es sencillo. Se emplea a través de la sustitución sucesiva:\n",
    "\n",
    "1. Se calcula $x_1 = \\frac{b_1}{a_{11}}$\n",
    "2. Los restantes $x_k$ para $k = 2, 3, \\dots, n$ se calculan $x_k = \\frac{b_k - \\sum^{k - 1}_{j = 1}a_{kj}x_j}{a_{kk}}$. El cálculo es sucesivo."
   ]
  },
  {
   "cell_type": "markdown",
   "metadata": {},
   "source": [
    "En el caso que la matriz $A$ sea *triangular superior* se comienza de $x_n = \\frac{b_n}{a_{nn}}$ y después sucesivamente se calculan los restantes $x_k$. \n",
    "\n",
    "Dada la facilidad con la que se puede resolver un sistema de ecuaciones lineales dado el caso que la matriz $A$ sea *triangular inferior* o *triangular superior* nos preguntamos si es posible transformar cualquier matriz cuadrada no singular en una matriz *triangular inferior* o *triangular superior*. La respuesta es afirmativa y se conoce a esto como la factorización LU.\n",
    "\n",
    "$$ A = LU $$\n",
    "\n",
    "donde $L$ es una matriz *triangular inferior* y $U$ es una matriz *triangular superior*."
   ]
  },
  {
   "cell_type": "markdown",
   "metadata": {},
   "source": [
    "Ahora retomando el problema de resolver el sistema de ecuaciones lineales $Ax = b$, dada la factorización LU tenemos que:\n",
    "\n",
    "$$ Lz = b \\qquad \\text{y} \\qquad Ux = z$$"
   ]
  },
  {
   "cell_type": "markdown",
   "metadata": {},
   "source": [
    "con este resultado, cualquier sistema de ecuaciones lineales donde $A$ es una matriz cuadrada no singular se reduce a:\n",
    "\n",
    "1. Aplicar la factorización LU a $A$.\n",
    "2. Resolver a través de la sustitución sucesiva $Lz = b$.\n",
    "3. Resolver a través de la sustitución sucesiva $Ux = z$."
   ]
  },
  {
   "cell_type": "markdown",
   "metadata": {},
   "source": [
    "El método más sencillo para hallar la factorización LU de una matriz cuadrada no singular es el método de la **eliminación Gausiana**.\n",
    "\n",
    "Básicamente comenzamos con la matriz cuadrada no singular $A$ y sucesivamente la multiplicamos a la izquierda con matrices triangulares inferiores $L^{(1)}, L^{(2)}, \\dots, L^{(n - 1)}$ para que $A$ se transforme en una matriz triangular superior.\n",
    "\n"
   ]
  },
  {
   "cell_type": "markdown",
   "metadata": {},
   "source": [
    "Tomemos la primera columna de $A$. Supongamos que $a_{11} \\neq 0$. Si se define $l^{(1)}_{i1} = \\frac{a_{i1}}{a_{11}}$ para $i = 2, \\dots, n$, y $a^{(2)}_{ij} = a_{ij} - l^{(1)}_{i1}a_{1j}$ para $j = 1, \\dots, n$, entonces $a^{(2)}_{i1}$ es 0 para $i = 2, \\dots, n$. Sea $A^{(1)} = A$, definamos $A^{(2)}$ como:"
   ]
  },
  {
   "cell_type": "markdown",
   "metadata": {},
   "source": [
    "$$ \\left[I - \\left(\\begin{array}{cccc} 0 & 0 & \\dots & 0 \\\\\n",
    "                                       l^{(1)}_{21} & 0 & \\dots & 0 \\\\\n",
    "                                       \\vdots & \\vdots & \\ddots & \\vdots \\\\\n",
    "            l^{(1)}_{n1} & 0 & \\dots & 0 \\end{array}\\right)\\right] A = \\left(\\begin{array}{cccc}a^{(1)}_{11} & a^{(1)}_{12} & \\dots & a^{(1)}_{1n} \\\\\n",
    "            0 & a^{(2)}_{22} & \\dots & a^{(2)}_{2n} \\\\\n",
    "            \\vdots & \\vdots & \\ddots & \\vdots \\\\\n",
    "            0 & a^{(2)}_{n2} & \\dots & a^{(2)}_{nn}\\end{array}\\right) = A^{(2)} $$"
   ]
  },
  {
   "cell_type": "markdown",
   "metadata": {},
   "source": [
    "donde $I$ es la matriz identidad $n \\times n$. Nótese que hemos multiplicado a la izquierda la matriz $A$ con una matriz triangular inferior $L^{(1)}$ y se consigue volver 0 los elementos fuera de la diagonal de la primera columna de $A$. Continuando con esta lógica, podemos construir matrices $L^{(2)}, \\dots, L^{(n - 1)}$ de forma sucesiva, tomando en cuenta que:\n",
    "\n",
    "$$l^{(k)}_{ij} = \\left\\{\\begin{array}{c}\\frac{a^{(k)}_{ik}}{a^{(k)}_{kk}}, \\qquad j = k, i = k + 1, \\dots, n \\\\\n",
    "                                        0, \\qquad \\text{de lo contrario}\\end{array}\\right.$$"
   ]
  },
  {
   "cell_type": "markdown",
   "metadata": {},
   "source": [
    "$$a^{(k + 1)}_{ij} = \\left\\{\\begin{array}{c}a^{(k)}_{ij} - l^{(k)}_{ik}a^{(k)}_{kj}, \\qquad i = k + 1, \\dots, n, j = k, \\dots, n \\\\\n",
    "a^{(k)}_{ij}, \\qquad \\text{de lo contrario}\\end{array}\\right.$$"
   ]
  },
  {
   "cell_type": "markdown",
   "metadata": {},
   "source": [
    "con estos cálculos se define la siguiente secuencia de matrices:\n",
    "\n",
    "$$A^{(k + 1)} = \\underbrace{\\left[I - \\left(\\begin{array}{cccccc}0 & \\dots & 0 & 0 & \\dots & 0 \\\\\n",
    "                                                     \\vdots & \\ddots & \\vdots & \\vdots & \\ddots & \\vdots \\\\\n",
    "                                                     0 & \\dots & 0 & l^{(k)}_{k + 1, k} & \\dots & 0 \\\\\n",
    "                                                     \\vdots & \\ddots & \\vdots & \\vdots & \\ddots & \\vdots\\\\\n",
    "                                                     0 & \\dots & 0 & l^{(k)}_{n, k} & \\dots & 0\\end{array}\\right)\\right]}_{L^{(k)}}A^{(k)}$$"
   ]
  },
  {
   "cell_type": "markdown",
   "metadata": {},
   "source": [
    "El resultado despues de $n - 1$ multiplicaciones a la izquierda es una matriz triangular superior $A^{(n)}$.\n",
    "\n",
    "$$L^{(n - 1)}L^{(n - 2)} \\dots L^{(2)}L^{(1)}A = A^{(n)} = U$$\n",
    "\n",
    "como las operaciones de multiplicación e inversión son cerradas tanto para matrices triangulares inferiores como superiores se tiene que $A = LU$ donde $L = (L^{(n - 1)} \\dots L^{(1)})^{(-1)}$."
   ]
  },
  {
   "cell_type": "markdown",
   "metadata": {},
   "source": [
    "Si bien el método de **eliminación gaussiana** para la factorización LU es de fácil implementación, existe un problema cuando $a^{(k)}_{kk} = 0$ ya que no puede haber división por cero. Si la matriz es no singular, entonces un reordenamiento de las filas permite encontrar otro valor en la diagonal que no sea 0 y así continuar con la **eliminación gausiana**. No obstante, si $a^{(k)}_{kk}$ es cercana a 0 ello podría magnificar los errores numéricos. Para evitar todo esto, los algoritmos implementados en software como `Julia` permite un reordenamiento optimo de las filas y columnas. Esto se le conoce como **pivoteo**. \n",
    "\n",
    "En el **pivoteo parcial** solo se reordenan las filas. Para ello se premultiplica la matriz $A$ con una matriz permutación $P$ que reordena las filas de $A$ para empezar la factorización LU. Es decir,\n",
    "\n",
    "$$ PA = LU $$\n",
    "\n",
    "En el **pivoteo completo**, adicionalmente se postmultiplica A con una matriz de permutación $Q$ que reordena las columnas de $A$. Es decir,\n",
    "\n",
    "$$ PAQ = LU $$"
   ]
  },
  {
   "cell_type": "markdown",
   "metadata": {},
   "source": [
    "Para efectuar un ejemplo primero cargamos el paquete de algebra lineal de `Julia`:"
   ]
  },
  {
   "cell_type": "code",
   "execution_count": 2,
   "metadata": {},
   "outputs": [],
   "source": [
    "using LinearAlgebra"
   ]
  },
  {
   "cell_type": "markdown",
   "metadata": {},
   "source": [
    "Se utiliza la funcion `lu`. Primero construimos la matriz $A$:"
   ]
  },
  {
   "cell_type": "code",
   "execution_count": 4,
   "metadata": {},
   "outputs": [
    {
     "data": {
      "text/plain": [
       "4×4 Array{Int64,2}:\n",
       "  54  14  -11   2\n",
       "  14  50   -4  29\n",
       " -11  -4   55  22\n",
       "   2  29   22  95"
      ]
     },
     "execution_count": 4,
     "metadata": {},
     "output_type": "execute_result"
    }
   ],
   "source": [
    "A = [54 14 -11 2; 14 50 -4 29; -11 -4 55 22; 2 29 22 95]"
   ]
  },
  {
   "cell_type": "markdown",
   "metadata": {},
   "source": [
    "Procedemos luego a la factorización LU:"
   ]
  },
  {
   "cell_type": "code",
   "execution_count": 10,
   "metadata": {},
   "outputs": [],
   "source": [
    "decom = lu(A);"
   ]
  },
  {
   "cell_type": "markdown",
   "metadata": {},
   "source": [
    "Se obtiene la matriz triangular inferior $L$:"
   ]
  },
  {
   "cell_type": "code",
   "execution_count": 11,
   "metadata": {},
   "outputs": [
    {
     "data": {
      "text/plain": [
       "4×4 Array{Float64,2}:\n",
       "  1.0        0.0        0.0       0.0\n",
       "  0.259259   1.0        0.0       0.0\n",
       " -0.203704  -0.0247604  1.0       0.0\n",
       "  0.037037   0.614217   0.438313  1.0"
      ]
     },
     "execution_count": 11,
     "metadata": {},
     "output_type": "execute_result"
    }
   ],
   "source": [
    "decom.L"
   ]
  },
  {
   "cell_type": "markdown",
   "metadata": {},
   "source": [
    "Se obtiene la matriz triangular superior $U$:"
   ]
  },
  {
   "cell_type": "code",
   "execution_count": 12,
   "metadata": {},
   "outputs": [
    {
     "data": {
      "text/plain": [
       "4×4 Array{Float64,2}:\n",
       " 54.0  14.0     -11.0       2.0\n",
       "  0.0  46.3704   -1.14815  28.4815\n",
       "  0.0   0.0      52.7308   23.1126\n",
       "  0.0   0.0       0.0      67.3015"
      ]
     },
     "execution_count": 12,
     "metadata": {},
     "output_type": "execute_result"
    }
   ],
   "source": [
    "decom.U"
   ]
  },
  {
   "cell_type": "markdown",
   "metadata": {},
   "source": [
    "Y finalmente no existe ningun reordenamiento de las filas que está reflejado en el componente $p$ de la factorización:"
   ]
  },
  {
   "cell_type": "code",
   "execution_count": 13,
   "metadata": {},
   "outputs": [
    {
     "data": {
      "text/plain": [
       "4-element Array{Int64,1}:\n",
       " 1\n",
       " 2\n",
       " 3\n",
       " 4"
      ]
     },
     "execution_count": 13,
     "metadata": {},
     "output_type": "execute_result"
    }
   ],
   "source": [
    "decom.p"
   ]
  },
  {
   "cell_type": "markdown",
   "metadata": {},
   "source": [
    "No existe el componente $q$ de reordenamiento de columnas."
   ]
  },
  {
   "cell_type": "code",
   "execution_count": 15,
   "metadata": {},
   "outputs": [
    {
     "ename": "LoadError",
     "evalue": "type LU has no field q",
     "output_type": "error",
     "traceback": [
      "type LU has no field q",
      "",
      "Stacktrace:",
      " [1] getproperty(::LU{Float64,Array{Float64,2}}, ::Symbol) at D:\\buildbot\\worker\\package_win64\\build\\usr\\share\\julia\\stdlib\\v1.5\\LinearAlgebra\\src\\lu.jl:318",
      " [2] top-level scope at In[15]:1",
      " [3] include_string(::Function, ::Module, ::String, ::String) at .\\loading.jl:1091"
     ]
    }
   ],
   "source": [
    "decom.q"
   ]
  },
  {
   "cell_type": "markdown",
   "metadata": {},
   "source": [
    "Se hubiese obtenido el mismo resultado si se efectuaba el siguiente cálculo:"
   ]
  },
  {
   "cell_type": "code",
   "execution_count": 16,
   "metadata": {},
   "outputs": [
    {
     "data": {
      "text/plain": [
       "LU{Float64,Array{Float64,2}}\n",
       "L factor:\n",
       "4×4 Array{Float64,2}:\n",
       "  1.0        0.0        0.0       0.0\n",
       "  0.259259   1.0        0.0       0.0\n",
       " -0.203704  -0.0247604  1.0       0.0\n",
       "  0.037037   0.614217   0.438313  1.0\n",
       "U factor:\n",
       "4×4 Array{Float64,2}:\n",
       " 54.0  14.0     -11.0       2.0\n",
       "  0.0  46.3704   -1.14815  28.4815\n",
       "  0.0   0.0      52.7308   23.1126\n",
       "  0.0   0.0       0.0      67.3015"
      ]
     },
     "execution_count": 16,
     "metadata": {},
     "output_type": "execute_result"
    }
   ],
   "source": [
    "L, U, P = lu(A)"
   ]
  },
  {
   "cell_type": "markdown",
   "metadata": {},
   "source": [
    "### 1.2 Factorización QR"
   ]
  },
  {
   "cell_type": "code",
   "execution_count": null,
   "metadata": {},
   "outputs": [],
   "source": []
  }
 ],
 "metadata": {
  "kernelspec": {
   "display_name": "Julia 1.5.0",
   "language": "julia",
   "name": "julia-1.5"
  },
  "language_info": {
   "file_extension": ".jl",
   "mimetype": "application/julia",
   "name": "julia",
   "version": "1.5.0"
  }
 },
 "nbformat": 4,
 "nbformat_minor": 4
}
